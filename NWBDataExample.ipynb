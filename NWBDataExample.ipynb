{
 "cells": [
  {
   "cell_type": "code",
   "execution_count": 1,
   "id": "aa59f05c-d451-41c1-b703-f10ea1b63399",
   "metadata": {},
   "outputs": [],
   "source": [
    "from simply_nwb.pipeline import NWBSession\n",
    "import matplotlib.pyplot as plt\n",
    "%matplotlib qt"
   ]
  },
  {
   "cell_type": "code",
   "execution_count": 2,
   "id": "c1e82069-7a53-4fd5-9236-3f87d51cbcc2",
   "metadata": {},
   "outputs": [
    {
     "name": "stdout",
     "output_type": "stream",
     "text": [
      "Reading NWB file 'predicted.nwb'..\n"
     ]
    }
   ],
   "source": [
    "sess = NWBSession(\"predicted.nwb\")"
   ]
  },
  {
   "cell_type": "code",
   "execution_count": 3,
   "id": "c77c1ce7-ef2b-4b5f-91ed-321b584a8f99",
   "metadata": {},
   "outputs": [
    {
     "data": {
      "text/plain": [
       "['PredictSaccades', 'PutativeSaccades']"
      ]
     },
     "execution_count": 3,
     "metadata": {},
     "output_type": "execute_result"
    }
   ],
   "source": [
    "sess.available_enrichments()"
   ]
  },
  {
   "cell_type": "code",
   "execution_count": 5,
   "id": "5ebeb074-dcab-4e3d-8c60-1042a8a5a206",
   "metadata": {},
   "outputs": [
    {
     "data": {
      "text/plain": [
       "['saccades_fps',\n",
       " 'saccades_predicted_nasal_epochs',\n",
       " 'saccades_predicted_nasal_peak_indices',\n",
       " 'saccades_predicted_nasal_waveforms',\n",
       " 'saccades_predicted_noise_waveforms',\n",
       " 'saccades_predicted_temporal_epochs',\n",
       " 'saccades_predicted_temporal_peak_indices',\n",
       " 'saccades_predicted_temporal_waveforms']"
      ]
     },
     "execution_count": 5,
     "metadata": {},
     "output_type": "execute_result"
    }
   ],
   "source": [
    "sess.available_keys(\"PredictSaccades\")"
   ]
  },
  {
   "cell_type": "code",
   "execution_count": 8,
   "id": "5d5df84a-5384-43c5-8069-e1bfebb0d4ed",
   "metadata": {},
   "outputs": [
    {
     "data": {
      "text/plain": [
       "{'raw_x': 'x values directly from the DLC csv (time,)',\n",
       " 'raw_y': 'y values directly from the DLC csv (time,)',\n",
       " 'raw_timestamps': 'timestamps directly from the timestamps.txt (time,)',\n",
       " 'raw_likelihoods': 'likelihoods directly from the DLC csv (time,)',\n",
       " 'pose_corrected': 'Corrected eye position (time, x/y)',\n",
       " 'pose_interpolated': 'Interpolated eye position (time, x/y)',\n",
       " 'pose_decomposed': 'PCA Imputed eye positions (time, x/y)',\n",
       " 'pose_missing': 'Indexes of missing (nan) position values (time, x/y)',\n",
       " 'pose_reoriented': 'Reoriented positions, so they all start from the same 0 (time, x/y)',\n",
       " 'processed_eyepos': 'Final interpolation and nan filtering of eye position pose_reoriented (time, x/y)',\n",
       " 'saccades_putative_peak_indices': 'Index into time of the center (peak velocity) of the saccade (saccadenum,)',\n",
       " 'saccades_putative_waveforms': 'Waveforms of putative saccades (saccadenum, time, x/y)',\n",
       " 'saccades_fps': 'single value list like [fps] with the fps used to calculate eye positions'}"
      ]
     },
     "execution_count": 8,
     "metadata": {},
     "output_type": "execute_result"
    }
   ],
   "source": [
    "sess.description(\"PutativeSaccades\")"
   ]
  },
  {
   "cell_type": "code",
   "execution_count": 13,
   "id": "10fbcc59-16eb-4728-a4cb-f6edb9dc9069",
   "metadata": {},
   "outputs": [
    {
     "name": "stdout",
     "output_type": "stream",
     "text": [
      "Function 'dropped_frames'\n",
      "\tArgs:\n",
      "\t\t{}\n",
      "\tDesc:\n",
      "\t\tNumber of dropped frames (int)\n",
      "\tExample:\n",
      "\t\tdropped_frames()\n"
     ]
    }
   ],
   "source": [
    "print(sess.get_funclist(\"PutativeSaccades\")[0])"
   ]
  },
  {
   "cell_type": "code",
   "execution_count": 16,
   "id": "6be46c7c-5c59-4848-8520-40410c3836df",
   "metadata": {},
   "outputs": [
    {
     "data": {
      "text/plain": [
       "0"
      ]
     },
     "execution_count": 16,
     "metadata": {},
     "output_type": "execute_result"
    }
   ],
   "source": [
    "sess.func(\"PutativeSaccades.dropped_frames\")(\"rightCamTimestamps\")"
   ]
  },
  {
   "cell_type": "code",
   "execution_count": 3,
   "id": "5924911a-4d22-4126-b18c-3fc586b3776c",
   "metadata": {},
   "outputs": [
    {
     "name": "stdout",
     "output_type": "stream",
     "text": [
      "Eyepos (392576,)\n",
      "Nasal (128,)\n",
      "Temporal (302,)\n"
     ]
    }
   ],
   "source": [
    "\n",
    "eyepos = sess.pull(\"PutativeSaccades.pose_reoriented\")[:, 0]  # corrected, interpolated, reoriented and filtered\n",
    "# eyepos = sess.pull(\"PutativeSaccades.raw_x\")  # Raw unprocessed DLC (might not be the same length, confirm with above value shape)\n",
    "nasal_peaks = sess.pull(\"PredictSaccades.saccades_predicted_nasal_peak_indices\")\n",
    "temporal_peaks = sess.pull(\"PredictSaccades.saccades_predicted_temporal_peak_indices\")\n",
    "\n",
    "print(f\"Eyepos {eyepos.shape}\")\n",
    "print(f\"Nasal {nasal_peaks.shape}\")\n",
    "print(f\"Temporal {temporal_peaks.shape}\")"
   ]
  },
  {
   "cell_type": "code",
   "execution_count": null,
   "id": "4ccad968-2d97-44ed-be97-d8badfffa9f5",
   "metadata": {},
   "outputs": [],
   "source": []
  },
  {
   "cell_type": "code",
   "execution_count": 4,
   "id": "c662567f-9a30-458e-94fb-5a453ded89a7",
   "metadata": {},
   "outputs": [],
   "source": [
    "# Plot the eye position with the\n",
    "fig, axs = plt.subplots(nrows=2, sharex=True)\n",
    "axs[0].plot(eyepos)\n",
    "for nas in nasal_peaks:\n",
    "    axs[1].vlines(nas, -20, 15, color=\"blue\")\n",
    "for tmp in temporal_peaks:\n",
    "    axs[1].vlines(tmp, -20, 15, color=\"orange\")\n",
    "plt.show()\n"
   ]
  },
  {
   "cell_type": "code",
   "execution_count": 5,
   "id": "66d02bd8-d421-4fe8-85c0-6f3f855051b9",
   "metadata": {},
   "outputs": [
    {
     "data": {
      "text/plain": [
       "['PutativeSaccades', 'PredictSaccades']"
      ]
     },
     "execution_count": 5,
     "metadata": {},
     "output_type": "execute_result"
    }
   ],
   "source": [
    "# List available enrichments in this dataset\n",
    "sess.available_enrichments()"
   ]
  },
  {
   "cell_type": "code",
   "execution_count": 6,
   "id": "a7e6c923-ddbb-4bfb-b44e-bd25938dc189",
   "metadata": {},
   "outputs": [
    {
     "data": {
      "text/plain": [
       "['saccades_fps',\n",
       " 'saccades_predicted_nasal_epochs',\n",
       " 'saccades_predicted_nasal_peak_indices',\n",
       " 'saccades_predicted_nasal_waveforms',\n",
       " 'saccades_predicted_noise_waveforms',\n",
       " 'saccades_predicted_temporal_epochs',\n",
       " 'saccades_predicted_temporal_peak_indices',\n",
       " 'saccades_predicted_temporal_waveforms']"
      ]
     },
     "execution_count": 6,
     "metadata": {},
     "output_type": "execute_result"
    }
   ],
   "source": [
    "# List out the datasets we have available for a given enrichment\n",
    "sess.available_keys(\"PredictSaccades\")"
   ]
  },
  {
   "cell_type": "code",
   "execution_count": 8,
   "id": "8c13d655-6c77-4572-816c-dce6cb17d618",
   "metadata": {},
   "outputs": [],
   "source": [
    "# Grab the saccade waveforms\n",
    "nasal_waveforms = sess.pull(\"PredictSaccades.saccades_predicted_nasal_waveforms\")"
   ]
  },
  {
   "cell_type": "code",
   "execution_count": 9,
   "id": "dc1d02fc-f077-4171-869f-f4005f248d89",
   "metadata": {},
   "outputs": [
    {
     "data": {
      "text/plain": [
       "(128, 80, 2)"
      ]
     },
     "execution_count": 9,
     "metadata": {},
     "output_type": "execute_result"
    }
   ],
   "source": [
    "# Shape is (saccade num, time, x&y)\n",
    "nasal_waveforms.shape"
   ]
  },
  {
   "cell_type": "code",
   "execution_count": 15,
   "id": "b7a60dd7-78a8-4eee-a17f-2a804844d56c",
   "metadata": {},
   "outputs": [],
   "source": [
    "# So to get all x saccades we can do\n",
    "nasal_xsaccades = nasal_waveforms[:, :, 0]"
   ]
  },
  {
   "cell_type": "code",
   "execution_count": 16,
   "id": "0de4a9f8-2f62-4ac8-8046-fba088775536",
   "metadata": {},
   "outputs": [],
   "source": [
    "# Lets graph the nasal saccades\n",
    "fig, ax = plt.subplots()\n",
    "for saccade in nasal_xsaccades:\n",
    "    ax.plot(saccade)\n"
   ]
  },
  {
   "cell_type": "code",
   "execution_count": null,
   "id": "e24ae025-9df1-46f5-9d85-84fe0f0e0b36",
   "metadata": {},
   "outputs": [],
   "source": [
    "del sess"
   ]
  },
  {
   "cell_type": "code",
   "execution_count": 13,
   "id": "18b6d654-8e2e-4e56-a8a8-73ee88478432",
   "metadata": {},
   "outputs": [
    {
     "name": "stdout",
     "output_type": "stream",
     "text": [
      "Reading NWB file 'drifting.nwb'..\n",
      "nasal_grating_idxs\n",
      "Index into the grating windows for each nasal saccade\n",
      "\n",
      "saccades_predicted_temporal_peak_indices\n",
      "Indexes of peaks for temporal labeled waveforms (saccadenum,) absolute frames\n"
     ]
    }
   ],
   "source": [
    "# TEST CODE BUT STILL A GOOD EXAMPLE\n",
    "sess = NWBSession(\"drifting.nwb\")  # NWB that has been enriched with DriftingGratingLabjackEnrichment(), ie 'DriftingGratingLabjack'\n",
    "print(\"nasal_grating_idxs\")\n",
    "print(sess.description('DriftingGratingLabjack')['nasal_grating_idxs'])\n",
    "\n",
    "print(\"\\nsaccades_predicted_temporal_peak_indices\")\n",
    "print(sess.description('PredictSaccades')['saccades_predicted_temporal_peak_indices'])\n"
   ]
  },
  {
   "cell_type": "code",
   "execution_count": 23,
   "id": "a46744a2-bea6-4305-a89c-dd0a4531905a",
   "metadata": {},
   "outputs": [
    {
     "data": {
      "text/plain": [
       "{'file_len': 'Length of each drifting grating file entries, used to index into the other keys to determine which file contains which range of indexes',\n",
       " 'filename': 'filenames of each drifingGrating.txt',\n",
       " 'nasal_grating_idxs': 'Index into the grating windows for each nasal saccade',\n",
       " 'temporal_grating_idxs': 'Index into the grating windows for each temporal saccade',\n",
       " 'Spatial frequency': 'How many cycles/degree',\n",
       " 'Velocity': 'How many degrees/second',\n",
       " 'Orientation': 'Orientation degrees',\n",
       " 'Baseline contrast': '0 or 1 for contrast value',\n",
       " 'Columns': 'Column names for the data',\n",
       " 'Event (1=Grating, 2=Motion, 3=Probe, 4=ITI)': 'Event data number',\n",
       " 'Motion direction': 'Motion direction',\n",
       " 'Probe contrast': 'Contrast number',\n",
       " 'Probe phase': 'Phase number',\n",
       " 'Timestamp': 'Timestamp value',\n",
       " 'Time': 'Labjack times array',\n",
       " 'v0': 'Labjack channel v0 (currently not used)',\n",
       " 'v1': 'Labjack channel v1 (currently not used)',\n",
       " 'v2': 'Labjack channel v2 (currently not used)',\n",
       " 'v3': 'Labjack channel v3 (currently not used)',\n",
       " 'y0': 'Labjack channel y0 (currently not used)',\n",
       " 'y1': 'Labjack channel y1, this is the default channel for the drifting grating signal pulses for block alignment',\n",
       " 'y2': 'Labjack channel y2, this is the default channel for the video recording signal pulse for determining when a frame in the video has been recorded',\n",
       " 'y3': 'Labjack channel y3 (currently not used)'}"
      ]
     },
     "execution_count": 23,
     "metadata": {},
     "output_type": "execute_result"
    }
   ],
   "source": [
    "sess.description(\"DriftingGratingLabjack\")"
   ]
  },
  {
   "cell_type": "code",
   "execution_count": 26,
   "id": "280f82c9-dce8-4fce-990b-28b1e2b8c38c",
   "metadata": {},
   "outputs": [
    {
     "name": "stdout",
     "output_type": "stream",
     "text": [
      "(4399,)\n",
      "(4399,)\n"
     ]
    }
   ],
   "source": [
    "print(sess.pull(\"DriftingGratingLabjack.Timestamp\").shape)\n",
    "print(sess.pull(\"DriftingGratingLabjack.Event (1=Grating, 2=Motion, 3=Probe, 4=ITI)\").shape)"
   ]
  },
  {
   "cell_type": "code",
   "execution_count": 29,
   "id": "7ec6f134-aaaa-4d2a-b49c-1eeb2750183c",
   "metadata": {},
   "outputs": [
    {
     "data": {
      "text/plain": [
       "array([0., 0., 0., ..., 0., 0., 0.])"
      ]
     },
     "execution_count": 29,
     "metadata": {},
     "output_type": "execute_result"
    }
   ],
   "source": [
    "\n"
   ]
  },
  {
   "cell_type": "code",
   "execution_count": null,
   "id": "299e3bee-5dbd-411c-b0a2-825e92d5e325",
   "metadata": {},
   "outputs": [],
   "source": [
    "from simply_nwb.pipeline.util.waves import startstop_of_squarewave\n",
    "\n",
    "\n",
    "drifting_grating_channel = \"y1\"\n",
    "labjack_grating_signal = sess.pull(f\"DriftingGratingLabjack.{drifting_grating_channel}\")\n",
    "grating_startstop = startstop_of_squarewave(self.dats[self.frames_channel], **self.squarewave_args)[:, :2] # Chop off the state value, only want start/stop\n",
    "\n",
    "# video_frame_channel = \"y2\"  same with this channel instead\n"
   ]
  }
 ],
 "metadata": {
  "kernelspec": {
   "display_name": "Python 3 (ipykernel)",
   "language": "python",
   "name": "python3"
  },
  "language_info": {
   "codemirror_mode": {
    "name": "ipython",
    "version": 3
   },
   "file_extension": ".py",
   "mimetype": "text/x-python",
   "name": "python",
   "nbconvert_exporter": "python",
   "pygments_lexer": "ipython3",
   "version": "3.12.3"
  }
 },
 "nbformat": 4,
 "nbformat_minor": 5
}
